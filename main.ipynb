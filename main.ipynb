{
  "nbformat": 4,
  "nbformat_minor": 0,
  "metadata": {
    "colab": {
      "provenance": [],
      "authorship_tag": "ABX9TyPnJfdXvvJgmRkJQ71Kxv4O",
      "include_colab_link": true
    },
    "kernelspec": {
      "name": "python3",
      "display_name": "Python 3"
    },
    "language_info": {
      "name": "python"
    }
  },
  "cells": [
    {
      "cell_type": "markdown",
      "metadata": {
        "id": "view-in-github",
        "colab_type": "text"
      },
      "source": [
        "<a href=\"https://colab.research.google.com/github/ZeleOeO/Wikipedia-Searcher-Regex/blob/main/main.ipynb\" target=\"_parent\"><img src=\"https://colab.research.google.com/assets/colab-badge.svg\" alt=\"Open In Colab\"/></a>"
      ]
    },
    {
      "cell_type": "code",
      "execution_count": 1,
      "metadata": {
        "id": "RKI-Ks90X0Gm"
      },
      "outputs": [],
      "source": [
        "import re\n",
        "import requests\n",
        "from bs4 import BeautifulSoup\n",
        "import string"
      ]
    },
    {
      "cell_type": "code",
      "source": [
        "name_pattern =\"Born([^\\(]*)\"\n",
        "age_pattern = \"age[^[1-9]+(\\d+)\"\n",
        "birthday_pattern = \"Born[^\\(]+[^[A-Z]+([^\\(]+)\"\n",
        "#birthplace_pattern = \"age \\d+\\)\\n([^\\n]+)\"\n",
        "education_pattern = \"Education([^\\(]+)(?=Occu)|Alma\\\\xa0mater(.+?)(?=Occu)\"\n",
        "death_pattern = \"\"\n",
        "spouse_pattern=\"Spouse([^\\\\]+)[^\\(]+\\(([^0]+)0+(\\d{4})\"\n",
        "\n",
        "def get_pattern_match(pattern: str, text: str):\n",
        "  ans = re.findall(pattern, text)\n",
        "  if \" \" in ans or not ans:\n",
        "    return \"None\"\n",
        "  return ans[0]\n",
        "\n",
        "\n",
        "def extract_information(text: str):\n",
        "  name = get_pattern_match(name_pattern, text)\n",
        "  age = get_pattern_match(age_pattern, text)\n",
        "  birthdate = get_pattern_match(birthday_pattern, text)\n",
        "  #birthplace = get_pattern_match(birthplace_pattern, text)\n",
        "  education = \" \".join(get_pattern_match(education_pattern, text)) if isinstance(get_pattern_match(education_pattern, text), tuple) else get_pattern_match(education_pattern, text)\n",
        "  # spouse = get_pattern_match(spouse_pattern, text)\n",
        "\n",
        "  return {\n",
        "      \"Name\":name.strip(),\n",
        "      \"Age\":age.strip(),\n",
        "      \"Birth Date\":birthdate,\n",
        "      \"Education\": str(education).strip()\n",
        "  }"
      ],
      "metadata": {
        "id": "ZDJw402p0gpj"
      },
      "execution_count": 2,
      "outputs": []
    },
    {
      "cell_type": "code",
      "source": [
        "# person=\"Jeff BezosBezos in 2021BornJeffrey Preston Jorgensen (1964-01-12) January 12, 1964 (age\\xa059)Albuquerque, New Mexico, U.S.EducationPrinceton University (BSE)OccupationsEntrepreneurmedia proprietorinvestorcomputer engineerYears\\xa0active1986–presentTitleFounder and executive chairman of AmazonFounder of Blue OriginFounder of Bezos ExpeditionsSpouseMacKenzie Scott\\u200b \\u200b(m.\\xa01993; div.\\xa02019)\\u200bPartner(s)Lauren Sánchez(2019–present)Children4RelativesTed Jorgensen (biological father)Mark Bezos (half-brother)[1]Signature\"\n",
        "# re.findall(spouse_pattern, person)"
      ],
      "metadata": {
        "id": "u3ACJczEVRSv"
      },
      "execution_count": 3,
      "outputs": []
    },
    {
      "cell_type": "code",
      "source": [
        "import requests\n",
        "from bs4 import BeautifulSoup\n",
        "import string\n",
        "\n",
        "name=input(\"Whose information do you want from WikiPedia: \")\n",
        "name = string.capwords(name.lower())\n",
        "\n",
        "name = name.replace(\" \", \"_\")\n",
        "\n",
        "url = f\"https://en.wikipedia.org/wiki/{name}\"\n",
        "page = requests.get(url)\n",
        "\n",
        "soup = BeautifulSoup(page.content, \"html.parser\")\n",
        "\n",
        "results= soup.find(id=\"mw-content-text\")\n",
        "try:\n",
        "  texts = results.find(class_=\"infobox biography vcard\").text.replace(\"\\n\",\"\")\n",
        "except:\n",
        "  texts = \"User not found\"\n",
        "\n",
        "texts"
      ],
      "metadata": {
        "colab": {
          "base_uri": "https://localhost:8080/",
          "height": 91
        },
        "id": "FNCWWgiZwvXw",
        "outputId": "a57f206c-e706-4829-d553-5511e0761b0c"
      },
      "execution_count": 4,
      "outputs": [
        {
          "name": "stdout",
          "output_type": "stream",
          "text": [
            "Whose information do you want from WikiPedia: Elon Musk\n"
          ]
        },
        {
          "output_type": "execute_result",
          "data": {
            "text/plain": [
              "'Elon MuskFRSMusk in 2018BornElon Reeve Musk (1971-06-28) June 28, 1971 (age\\xa051)Pretoria, Transvaal, South AfricaEducationUniversity of Pennsylvania (BA, BS)TitleFounder, CEO and chief engineer of SpaceXCEO and product architect of Tesla, Inc.CEO of Twitter, Inc.President of the Musk FoundationFounder of the Boring CompanyCo-founder of Neuralink, OpenAI, Zip2 and X.com (now part of PayPal)SpousesJustine Wilson\\u200b \\u200b(m.\\xa02000; div.\\xa02008)\\u200bTalulah Riley\\u200b \\u200b(m.\\xa02010; div.\\xa02012)\\u200b \\u200b \\u200b(m.\\xa02013; div.\\xa02016)\\u200bPartnerGrimes (2018–2021)[1]Children10[a][3]ParentsErrol Musk (father)Maye Musk (mother)FamilyMusk familyAwardsList of honors and awardsSignature'"
            ],
            "application/vnd.google.colaboratory.intrinsic+json": {
              "type": "string"
            }
          },
          "metadata": {},
          "execution_count": 4
        }
      ]
    },
    {
      "cell_type": "code",
      "source": [
        "info = extract_information(texts) if len(texts) >=5 else \"User not found\"\n",
        "info"
      ],
      "metadata": {
        "colab": {
          "base_uri": "https://localhost:8080/"
        },
        "id": "OFiNXDgsyzMX",
        "outputId": "bab3f53a-ba4b-4cfd-e991-5dc89888c329"
      },
      "execution_count": 5,
      "outputs": [
        {
          "data": {
            "text/plain": [
              "{'Name': 'Elon Reeve Musk',\n",
              " 'Age': '51',\n",
              " 'Birth Date': 'June 28, 1971 ',\n",
              " 'Education': 'None'}"
            ]
          },
          "execution_count": 5,
          "metadata": {},
          "output_type": "execute_result"
        }
      ]
    },
    {
      "cell_type": "code",
      "source": [
        "print(url)"
      ],
      "metadata": {
        "colab": {
          "base_uri": "https://localhost:8080/"
        },
        "id": "BVzVmoUiZlqa",
        "outputId": "8626c5e6-f204-499c-db47-0ca187fe3dff"
      },
      "execution_count": 6,
      "outputs": [
        {
          "metadata": {
            "tags": null
          },
          "name": "stdout",
          "output_type": "stream",
          "text": [
            "https://en.wikipedia.org/wiki/Elon_Musk\n"
          ]
        }
      ]
    },
    {
      "cell_type": "markdown",
      "source": [
        "#Names That Have Been Tested\n",
        "\n",
        "- jeff bezos\n",
        "- viola davis\n",
        "- oprah winfrey\n",
        "- elon musk\n",
        "- ice spice - not working\n",
        "- rami malek\n",
        "- isaac newton\n",
        "- ariana grande\n",
        "- nicki minaj\n",
        "- kim kardashian \n",
        "- miley *cyrus*\n",
        "- Scooter Braun"
      ],
      "metadata": {
        "id": "FWH9-mxss-_W"
      }
    }
  ]
}